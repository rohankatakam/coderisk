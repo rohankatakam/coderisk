{
  "cells": [
    {
      "cell_type": "code",
      "execution_count": null,
      "metadata": {},
      "outputs": [],
      "source": [
        "import sys\n",
        "print(\"Hello stdout!\")\n",
        "print(\"Hello stderr!\", file=sys.stderr)\n",
        "with open(\"test_output.txt\", \"w\") as f:\n",
        "    f.write(\"Notebook executed successfully!\\n\")\n",
        "print(\"✅ Test complete\")"
      ]
    }
  ],
  "metadata": {
    "kernelspec": {
      "display_name": "Python 3",
      "language": "python",
      "name": "python3"
    },
    "language_info": {
      "name": "python",
      "version": "3.8.0"
    }
  },
  "nbformat": 4,
  "nbformat_minor": 4
}